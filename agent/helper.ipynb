{
 "cells": [
  {
   "cell_type": "code",
   "execution_count": 9,
   "id": "5df8482c",
   "metadata": {},
   "outputs": [],
   "source": [
    "from langchain_community.document_loaders import TextLoader\n",
    "from langchain_text_splitters import RecursiveCharacterTextSplitter\n",
    "from typing import List\n",
    "from langchain_core.documents import Document\n",
    "\n",
    "def load_and_chunk_documents(file_path: str) -> List:\n",
    "    \"\"\"\n",
    "    Загружает документ из файла и разбивает его на чанки.\n",
    "    \"\"\"\n",
    "    loader = TextLoader(file_path, encoding='utf-8')\n",
    "    documents = loader.load()\n",
    "    text_splitter = RecursiveCharacterTextSplitter(\n",
    "        chunk_size=1600,\n",
    "        chunk_overlap=200,\n",
    "        separators=[\n",
    "            \"\\n# \", \"\\n## \", \"\\n- \", \"\\n\\n\", \"\\n\", \" \", \"\"\n",
    "        ]\n",
    "    )\n",
    "    chunked_docs = text_splitter.split_documents(documents)\n",
    "    print(f\"Документ '{file_path}' разбит на {len(chunked_docs)} чанков.\")\n",
    "    return chunked_docs"
   ]
  },
  {
   "cell_type": "code",
   "execution_count": 10,
   "id": "682372ed",
   "metadata": {},
   "outputs": [
    {
     "name": "stdout",
     "output_type": "stream",
     "text": [
      "Документ 'data/docs.md' разбит на 10 чанков.\n"
     ]
    }
   ],
   "source": [
    "chunked_docs = load_and_chunk_documents(\"data/docs.md\")"
   ]
  },
  {
   "cell_type": "code",
   "execution_count": 11,
   "id": "44a1f249",
   "metadata": {},
   "outputs": [],
   "source": [
    "from langchain_openai import OpenAIEmbeddings\n",
    "from langchain_chroma import Chroma\n",
    "from typing import List\n",
    "from langchain_core.documents import Document\n",
    "import os\n",
    "import shutil\n",
    "from dotenv import load_dotenv\n",
    "\n",
    "def create_vector_store(chunked_docs: List, collection_name: str = \"credit_platform_docs\"):\n",
    "    \"\"\"\n",
    "    Создает векторное хранилище из чанков документов.\n",
    "    \"\"\"\n",
    "    persist_dir = \"chroma_db\"\n",
    "    if os.path.exists(persist_dir):\n",
    "        shutil.rmtree(persist_dir)\n",
    "\n",
    "    # Загрузка переменных окружения из .env\n",
    "    load_dotenv()\n",
    "\n",
    "    embeddings = OpenAIEmbeddings(\n",
    "        model=\"text-embedding-3-small\"\n",
    "    )\n",
    "\n",
    "    vector_store = Chroma.from_documents(\n",
    "        documents=chunked_docs,\n",
    "        embedding=embeddings,\n",
    "        collection_name=collection_name,\n",
    "        persist_directory=persist_dir\n",
    "    )\n",
    "\n",
    "    print(f\"Векторное хранилище '{collection_name}' создано и содержит {len(vector_store.get()['ids'])} документов.\")\n",
    "    return vector_store"
   ]
  },
  {
   "cell_type": "code",
   "execution_count": 12,
   "id": "c4e6230f",
   "metadata": {},
   "outputs": [
    {
     "ename": "PermissionError",
     "evalue": "[WinError 32] Процесс не может получить доступ к файлу, так как этот файл занят другим процессом: 'chroma_db\\\\eca6f4ae-ca4f-4a4a-b157-ac5b8c20112f\\\\data_level0.bin'",
     "output_type": "error",
     "traceback": [
      "\u001b[31m---------------------------------------------------------------------------\u001b[39m",
      "\u001b[31mPermissionError\u001b[39m                           Traceback (most recent call last)",
      "\u001b[36mCell\u001b[39m\u001b[36m \u001b[39m\u001b[32mIn[12]\u001b[39m\u001b[32m, line 1\u001b[39m\n\u001b[32m----> \u001b[39m\u001b[32m1\u001b[39m vector_store = \u001b[43mcreate_vector_store\u001b[49m\u001b[43m(\u001b[49m\u001b[43mchunked_docs\u001b[49m\u001b[43m,\u001b[49m\u001b[43m \u001b[49m\u001b[33;43m\"\u001b[39;49m\u001b[33;43mp2p_agent_db\u001b[39;49m\u001b[33;43m\"\u001b[39;49m\u001b[43m)\u001b[49m\n",
      "\u001b[36mCell\u001b[39m\u001b[36m \u001b[39m\u001b[32mIn[11]\u001b[39m\u001b[32m, line 15\u001b[39m, in \u001b[36mcreate_vector_store\u001b[39m\u001b[34m(chunked_docs, collection_name)\u001b[39m\n\u001b[32m     13\u001b[39m persist_dir = \u001b[33m\"\u001b[39m\u001b[33mchroma_db\u001b[39m\u001b[33m\"\u001b[39m\n\u001b[32m     14\u001b[39m \u001b[38;5;28;01mif\u001b[39;00m os.path.exists(persist_dir):\n\u001b[32m---> \u001b[39m\u001b[32m15\u001b[39m     \u001b[43mshutil\u001b[49m\u001b[43m.\u001b[49m\u001b[43mrmtree\u001b[49m\u001b[43m(\u001b[49m\u001b[43mpersist_dir\u001b[49m\u001b[43m)\u001b[49m\n\u001b[32m     17\u001b[39m \u001b[38;5;66;03m# Загрузка переменных окружения из .env\u001b[39;00m\n\u001b[32m     18\u001b[39m load_dotenv()\n",
      "\u001b[36mFile \u001b[39m\u001b[32m~\\AppData\\Local\\Programs\\Python\\Python313\\Lib\\shutil.py:790\u001b[39m, in \u001b[36mrmtree\u001b[39m\u001b[34m(path, ignore_errors, onerror, onexc, dir_fd)\u001b[39m\n\u001b[32m    788\u001b[39m     \u001b[38;5;66;03m# can't continue even if onexc hook returns\u001b[39;00m\n\u001b[32m    789\u001b[39m     \u001b[38;5;28;01mreturn\u001b[39;00m\n\u001b[32m--> \u001b[39m\u001b[32m790\u001b[39m \u001b[38;5;28;01mreturn\u001b[39;00m \u001b[43m_rmtree_unsafe\u001b[49m\u001b[43m(\u001b[49m\u001b[43mpath\u001b[49m\u001b[43m,\u001b[49m\u001b[43m \u001b[49m\u001b[43monexc\u001b[49m\u001b[43m)\u001b[49m\n",
      "\u001b[36mFile \u001b[39m\u001b[32m~\\AppData\\Local\\Programs\\Python\\Python313\\Lib\\shutil.py:629\u001b[39m, in \u001b[36m_rmtree_unsafe\u001b[39m\u001b[34m(path, onexc)\u001b[39m\n\u001b[32m    627\u001b[39m             \u001b[38;5;28;01mcontinue\u001b[39;00m\n\u001b[32m    628\u001b[39m         \u001b[38;5;28;01mexcept\u001b[39;00m \u001b[38;5;167;01mOSError\u001b[39;00m \u001b[38;5;28;01mas\u001b[39;00m err:\n\u001b[32m--> \u001b[39m\u001b[32m629\u001b[39m             \u001b[43monexc\u001b[49m\u001b[43m(\u001b[49m\u001b[43mos\u001b[49m\u001b[43m.\u001b[49m\u001b[43munlink\u001b[49m\u001b[43m,\u001b[49m\u001b[43m \u001b[49m\u001b[43mfullname\u001b[49m\u001b[43m,\u001b[49m\u001b[43m \u001b[49m\u001b[43merr\u001b[49m\u001b[43m)\u001b[49m\n\u001b[32m    630\u001b[39m \u001b[38;5;28;01mtry\u001b[39;00m:\n\u001b[32m    631\u001b[39m     os.rmdir(path)\n",
      "\u001b[36mFile \u001b[39m\u001b[32m~\\AppData\\Local\\Programs\\Python\\Python313\\Lib\\shutil.py:625\u001b[39m, in \u001b[36m_rmtree_unsafe\u001b[39m\u001b[34m(path, onexc)\u001b[39m\n\u001b[32m    623\u001b[39m fullname = os.path.join(dirpath, name)\n\u001b[32m    624\u001b[39m \u001b[38;5;28;01mtry\u001b[39;00m:\n\u001b[32m--> \u001b[39m\u001b[32m625\u001b[39m     \u001b[43mos\u001b[49m\u001b[43m.\u001b[49m\u001b[43munlink\u001b[49m\u001b[43m(\u001b[49m\u001b[43mfullname\u001b[49m\u001b[43m)\u001b[49m\n\u001b[32m    626\u001b[39m \u001b[38;5;28;01mexcept\u001b[39;00m \u001b[38;5;167;01mFileNotFoundError\u001b[39;00m:\n\u001b[32m    627\u001b[39m     \u001b[38;5;28;01mcontinue\u001b[39;00m\n",
      "\u001b[31mPermissionError\u001b[39m: [WinError 32] Процесс не может получить доступ к файлу, так как этот файл занят другим процессом: 'chroma_db\\\\eca6f4ae-ca4f-4a4a-b157-ac5b8c20112f\\\\data_level0.bin'"
     ]
    }
   ],
   "source": [
    "vector_store = create_vector_store(chunked_docs, \"p2p_agent_db\")"
   ]
  },
  {
   "cell_type": "code",
   "execution_count": null,
   "id": "575cadd0",
   "metadata": {},
   "outputs": [],
   "source": [
    "# Файл: tools/qa_tool.py\n",
    "from langchain_core.output_parsers import StrOutputParser\n",
    "from langchain_core.prompts import ChatPromptTemplate\n",
    "from langchain_core.runnables import RunnablePassthrough\n",
    "from langchain_openai import ChatOpenAI\n",
    "from dotenv import load_dotenv\n",
    "import os\n",
    "from langchain_chroma import Chroma\n",
    "\n",
    "\n",
    "# Шаблон промпта, который инструктирует модель\n",
    "RAG_PROMPT_TEMPLATE = \"\"\"\n",
    "Ты — дружелюбный ассистент, отвечающий по вопросам взаимного кредитования. \n",
    "Используй предоставленный ниже контекст, чтобы ответить на вопрос пользователя. Ответь коротко и по существу, дружелюбным тоном. \n",
    "Не пересказывай весь документ, а приведи только ту информацию, что отвечает на вопрос пользователя. \n",
    "Не добавляй информацию вне предоставленного контекста.\n",
    "Не включай личные мнения, только факты\n",
    "Не повторяй вопрос и не перечисляй пункты, если об этом не просили. \n",
    "\n",
    "Контекст:\n",
    "{context}\n",
    "\n",
    "Вопрос:\n",
    "{question}\n",
    "\n",
    "Ответ:\n",
    "\"\"\"\n",
    "\n",
    "\n",
    "def format_docs(docs):\n",
    "    \"\"\"\n",
    "    Форматирует список документов в единую строку.\n",
    "    \"\"\"\n",
    "    return \"\\n\\n\".join(doc.page_content for doc in docs)\n",
    "\n",
    "def create_qa_rag_chain(vector_store: Chroma):\n",
    "    # Загрузка переменных окружения из .env\n",
    "    load_dotenv()\n",
    "    openai_api_key = os.getenv(\"OPENAI_API_KEY\")\n",
    "\n",
    "    retriever = vector_store.as_retriever(search_kwargs={\"k\": 2})\n",
    "\n",
    "    llm = ChatOpenAI(\n",
    "        model=\"gpt-3.5-turbo\",\n",
    "        temperature=0.2,\n",
    "        openai_api_key=openai_api_key\n",
    "    )\n",
    "    prompt = ChatPromptTemplate.from_template(RAG_PROMPT_TEMPLATE)\n",
    "\n",
    "    rag_chain = (\n",
    "        {\"context\": retriever | format_docs, \"question\": RunnablePassthrough()}\n",
    "        | prompt\n",
    "        | llm\n",
    "        | StrOutputParser()\n",
    "    )\n",
    "    return rag_chain"
   ]
  },
  {
   "cell_type": "code",
   "execution_count": null,
   "id": "1a1535e7",
   "metadata": {},
   "outputs": [],
   "source": [
    "p2p_agent_executor = create_qa_rag_chain(vector_store)"
   ]
  },
  {
   "cell_type": "code",
   "execution_count": null,
   "id": "04827477",
   "metadata": {},
   "outputs": [
    {
     "name": "stdout",
     "output_type": "stream",
     "text": [
      "\n",
      "--- Тест 1 ---\n",
      "Ответ интеллектуального агента: Смарт-контракты DeFi Credit аудируются экспертами и имеют открытую логику. Ваша криптовалюта хранится под вашим контролем (в смарт-контракте), и для операций требуется ваша подпись. Мы не храним ваши пароли или приватные ключи. Кроме того, из-за принципа over-collateralization ваша долговая нагрузка надёжно покрывается залогом.\n"
     ]
    }
   ],
   "source": [
    "print(\"\\n--- Тест 1 ---\")\n",
    "response1 = p2p_agent_executor.invoke(\"Какие у вас гарантии безопасности?\")\n",
    "print(\"Ответ интеллектуального агента:\", response1)"
   ]
  },
  {
   "cell_type": "code",
   "execution_count": null,
   "id": "a9eac36f",
   "metadata": {},
   "outputs": [
    {
     "name": "stdout",
     "output_type": "stream",
     "text": [
      "\n",
      "--- Тест 2 ---\n",
      "Ответ интеллектуального агента: Извините, но наша платформа DeFi Credit работает только с USDT (стабильная монета), а не с ETH. Вы можете вложить 1000 USDT на 3 месяца, предоставив ETH в качестве залога.\n"
     ]
    }
   ],
   "source": [
    "# print(\"\\n--- Тест 2 ---\")\n",
    "# response2 = p2p_agent_executor.invoke(\"Хочу вложить 3000eth на 3 месяца и на 1000usdt\")\n",
    "# print(\"Ответ интеллектуального агента:\", response2)"
   ]
  }
 ],
 "metadata": {
  "kernelspec": {
   "display_name": "venv",
   "language": "python",
   "name": "python3"
  },
  "language_info": {
   "codemirror_mode": {
    "name": "ipython",
    "version": 3
   },
   "file_extension": ".py",
   "mimetype": "text/x-python",
   "name": "python",
   "nbconvert_exporter": "python",
   "pygments_lexer": "ipython3",
   "version": "3.13.5"
  }
 },
 "nbformat": 4,
 "nbformat_minor": 5
}
