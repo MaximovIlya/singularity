{
 "cells": [
  {
   "cell_type": "code",
   "execution_count": 1,
   "id": "5df8482c",
   "metadata": {},
   "outputs": [],
   "source": [
    "from langchain_community.document_loaders import TextLoader\n",
    "from langchain_text_splitters import RecursiveCharacterTextSplitter\n",
    "from typing import List\n",
    "from langchain_core.documents import Document\n",
    "\n",
    "def load_and_chunk_documents(file_path: str) -> List:\n",
    "    \"\"\"\n",
    "    Загружает документ из файла и разбивает его на чанки.\n",
    "    \"\"\"\n",
    "    loader = TextLoader(file_path, encoding='utf-8')\n",
    "    documents = loader.load()\n",
    "    text_splitter = RecursiveCharacterTextSplitter(\n",
    "        chunk_size=1600,\n",
    "        chunk_overlap=200,\n",
    "        separators=[\n",
    "            \"\\n# \", \"\\n## \", \"\\n- \", \"\\n\\n\", \"\\n\", \" \", \"\"\n",
    "        ]\n",
    "    )\n",
    "    chunked_docs = text_splitter.split_documents(documents)\n",
    "    print(f\"Документ '{file_path}' разбит на {len(chunked_docs)} чанков.\")\n",
    "    return chunked_docs"
   ]
  },
  {
   "cell_type": "code",
   "execution_count": null,
   "id": "682372ed",
   "metadata": {},
   "outputs": [],
   "source": [
    "chunked_docs = load_and_chunk_documents(\"data/docs.md\")"
   ]
  },
  {
   "cell_type": "code",
   "execution_count": 2,
   "id": "44a1f249",
   "metadata": {},
   "outputs": [],
   "source": [
    "from langchain_openai import OpenAIEmbeddings\n",
    "from langchain_chroma import Chroma\n",
    "from typing import List\n",
    "from langchain_core.documents import Document\n",
    "import os\n",
    "import shutil\n",
    "from dotenv import load_dotenv\n",
    "\n",
    "def create_vector_store(chunked_docs: List, collection_name: str = \"credit_platform_docs\"):\n",
    "    \"\"\"\n",
    "    Создает векторное хранилище из чанков документов.\n",
    "    \"\"\"\n",
    "    persist_dir = \"chroma_db\"\n",
    "    if os.path.exists(persist_dir):\n",
    "        shutil.rmtree(persist_dir)\n",
    "\n",
    "    # Загрузка переменных окружения из .env\n",
    "    load_dotenv()\n",
    "\n",
    "    embeddings = OpenAIEmbeddings(\n",
    "        model=\"text-embedding-3-small\"\n",
    "    )\n",
    "\n",
    "    vector_store = Chroma.from_documents(\n",
    "        documents=chunked_docs,\n",
    "        embedding=embeddings,\n",
    "        collection_name=collection_name,\n",
    "        persist_directory=persist_dir\n",
    "    )\n",
    "\n",
    "    print(f\"Векторное хранилище '{collection_name}' создано и содержит {len(vector_store.get()['ids'])} документов.\")\n",
    "    return vector_store"
   ]
  },
  {
   "cell_type": "code",
   "execution_count": null,
   "id": "575cadd0",
   "metadata": {},
   "outputs": [],
   "source": [
    "# Файл: tools/qa_tool.py\n",
    "from langchain_core.output_parsers import StrOutputParser\n",
    "from langchain_core.prompts import ChatPromptTemplate\n",
    "from langchain_core.runnables import RunnablePassthrough\n",
    "from langchain_openai import ChatOpenAI\n",
    "from dotenv import load_dotenv\n",
    "import os\n",
    "from langchain_chroma import Chroma\n",
    "\n",
    "\n",
    "# Шаблон промпта, который инструктирует модель\n",
    "RAG_PROMPT_TEMPLATE = \"\"\"\n",
    "Ты — дружелюбный ассистент, отвечающий по вопросам взаимного кредитования. \n",
    "Используй предоставленный ниже контекст, чтобы ответить на вопрос пользователя. Ответь коротко и по существу, дружелюбным тоном. \n",
    "Не пересказывай весь документ, а приведи только ту информацию, что отвечает на вопрос пользователя. \n",
    "Не добавляй информацию вне предоставленного контекста.\n",
    "Не включай личные мнения, только факты\n",
    "Не повторяй вопрос и не перечисляй пункты, если об этом не просили. \n",
    "\n",
    "Контекст:\n",
    "{context}\n",
    "\n",
    "Вопрос:\n",
    "{question}\n",
    "\n",
    "Ответ:\n",
    "\"\"\"\n",
    "\n",
    "\n",
    "def format_docs(docs):\n",
    "    \"\"\"\n",
    "    Форматирует список документов в единую строку.\n",
    "    \"\"\"\n",
    "    return \"\\n\\n\".join(doc.page_content for doc in docs)\n",
    "\n",
    "def create_qa_rag_chain(vector_store: Chroma):\n",
    "    # Загрузка переменных окружения из .env\n",
    "    load_dotenv()\n",
    "    openai_api_key = os.getenv(\"OPENAI_API_KEY\")\n",
    "\n",
    "    retriever = vector_store.as_retriever(search_kwargs={\"k\": 2})\n",
    "\n",
    "    llm = ChatOpenAI(\n",
    "        model=\"gpt-3.5-turbo\",\n",
    "        temperature=0.2,\n",
    "        openai_api_key=openai_api_key\n",
    "    )\n",
    "    prompt = ChatPromptTemplate.from_template(RAG_PROMPT_TEMPLATE)\n",
    "\n",
    "    rag_chain = (\n",
    "        {\"context\": retriever | format_docs, \"question\": RunnablePassthrough()}\n",
    "        | prompt\n",
    "        | llm\n",
    "        | StrOutputParser()\n",
    "    )\n",
    "    return rag_chain"
   ]
  },
  {
   "cell_type": "code",
   "execution_count": null,
   "id": "7ea1e9c8",
   "metadata": {},
   "outputs": [],
   "source": [
    "def create_p2p_agent():\n",
    "    \"\"\"\n",
    "    Создает и настраивает агента для P2P платформы.\n",
    "    \"\"\"\n",
    "    # --- Инициализация инструментов ---\n",
    "\n",
    "    # Инструмент для ответов на вопросы (RAG)\n",
    "    print(\"Инициализация RAG-инструмента...\")\n",
    "    \n",
    "    vector_store = create_vector_store(chunked_docs, \"p2p_agent_db\")\n",
    "    agent_executor = create_qa_rag_chain(vector_store)\n",
    "    \n",
    "    print(\"Агент успешно создан.\")\n",
    "    return agent_executor\n"
   ]
  },
  {
   "cell_type": "code",
   "execution_count": null,
   "id": "2c0b8815",
   "metadata": {},
   "outputs": [
    {
     "name": "stdout",
     "output_type": "stream",
     "text": [
      "Инициализация RAG-инструмента...\n",
      "Документ 'data/docs.md' разбит на 10 чанков.\n",
      "Векторное хранилище 'p2p_agent_db' создано и содержит 10 документов.\n",
      "Агент успешно создан.\n",
      "\n",
      "--- Тест 1 ---\n",
      "Ответ интеллектуального агента: У нас есть несколько мер безопасности, которые обеспечивают надежность платформы. Во-первых, смарт-контракты платформы аудируются сторонними компаниями на предмет уязвимостей. Во-вторых, мы не храним ваши пароли или приватные ключи, и ваша криптовалюта хранится под вашим контролем в смарт-контракте. Кроме того, принцип over-collateralization обеспечивает надежное покрытие вашей долговой нагрузки залогом. Все транзакции прозрачны и записываются в блокчейне, что исключает скрытые комиссии или изменения условий без уведомления.\n"
     ]
    }
   ],
   "source": [
    "p2p_agent_executor = create_p2p_agent()\n",
    "\n",
    "print(\"\\n--- Тест 1 ---\")\n",
    "response1 = p2p_agent_executor.invoke(\"Какие у вас гарантии безопасности?\")\n",
    "print(\"Ответ интеллектуального агента:\", response1)\n",
    "\n",
    "\n",
    "\n",
    "# print(\"\\n--- Тест 3 ---\")\n",
    "# response3 = p2p_agent_executor.invoke(\"Какой минимальный срок для вклада?\")\n",
    "# print(\"Ответ интеллектуального агента:\", response3)"
   ]
  },
  {
   "cell_type": "code",
   "execution_count": 6,
   "id": "a9eac36f",
   "metadata": {},
   "outputs": [
    {
     "name": "stdout",
     "output_type": "stream",
     "text": [
      "\n",
      "--- Тест 2 ---\n",
      "Ответ интеллектуального агента: Из предоставленного контекста не ясно, предоставляется ли возможность вложить ETH на платформе DeFi Credit. Поэтому я не могу точно сказать, можно ли вложить 3000 ETH на 3 месяца и на 1000 USDT на данной платформе. Рекомендуется обратиться к официальным источникам или поддержке платформы для получения более точной информации.\n"
     ]
    }
   ],
   "source": [
    "print(\"\\n--- Тест 2 ---\")\n",
    "response2 = p2p_agent_executor.invoke(\"Хочу вложить 3000eth на 3 месяца и на 1000usdt\")\n",
    "print(\"Ответ интеллектуального агента:\", response2)"
   ]
  }
 ],
 "metadata": {
  "kernelspec": {
   "display_name": "venv",
   "language": "python",
   "name": "python3"
  },
  "language_info": {
   "codemirror_mode": {
    "name": "ipython",
    "version": 3
   },
   "file_extension": ".py",
   "mimetype": "text/x-python",
   "name": "python",
   "nbconvert_exporter": "python",
   "pygments_lexer": "ipython3",
   "version": "3.13.5"
  }
 },
 "nbformat": 4,
 "nbformat_minor": 5
}
